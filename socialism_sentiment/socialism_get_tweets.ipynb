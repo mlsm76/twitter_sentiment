{
  "nbformat": 4,
  "nbformat_minor": 0,
  "metadata": {
    "accelerator": "GPU",
    "colab": {
      "name": "socialism-tweets.ipynb",
      "provenance": [],
      "collapsed_sections": [],
      "machine_shape": "hm"
    },
    "kernelspec": {
      "display_name": "Python 3",
      "language": "python",
      "name": "python3"
    },
    "language_info": {
      "codemirror_mode": {
        "name": "ipython",
        "version": 3
      },
      "file_extension": ".py",
      "mimetype": "text/x-python",
      "name": "python",
      "nbconvert_exporter": "python",
      "pygments_lexer": "ipython3",
      "version": "3.6.8"
    }
  },
  "cells": [
    {
      "cell_type": "markdown",
      "metadata": {
        "id": "qOpxNAsa11Xr"
      },
      "source": [
        "## Import packages"
      ]
    },
    {
      "cell_type": "code",
      "metadata": {
        "colab": {
          "base_uri": "https://localhost:8080/"
        },
        "id": "xTs1TCN911Xu",
        "outputId": "4ed4df6e-ada0-47da-d2fb-80748d81455a"
      },
      "source": [
        "!pip3 install -qq twint\n",
        "!pip install -qq whatthelang\n",
        "!pip install snscrape"
      ],
      "execution_count": null,
      "outputs": [
        {
          "output_type": "stream",
          "text": [
            "\u001b[K     |████████████████████████████████| 1.3 MB 14.3 MB/s \n",
            "\u001b[K     |████████████████████████████████| 263 kB 74.1 MB/s \n",
            "\u001b[K     |████████████████████████████████| 364 kB 68.6 MB/s \n",
            "\u001b[K     |████████████████████████████████| 291 kB 60.8 MB/s \n",
            "\u001b[K     |████████████████████████████████| 142 kB 56.9 MB/s \n",
            "\u001b[K     |████████████████████████████████| 294 kB 89.0 MB/s \n",
            "\u001b[?25h  Building wheel for twint (setup.py) ... \u001b[?25l\u001b[?25hdone\n",
            "  Building wheel for fake-useragent (setup.py) ... \u001b[?25l\u001b[?25hdone\n",
            "  Building wheel for googletransx (setup.py) ... \u001b[?25l\u001b[?25hdone\n",
            "\u001b[K     |████████████████████████████████| 786 kB 7.1 MB/s \n",
            "\u001b[K     |████████████████████████████████| 455 kB 56.7 MB/s \n",
            "\u001b[K     |████████████████████████████████| 244 kB 82.0 MB/s \n",
            "\u001b[?25h  Building wheel for whatthelang (setup.py) ... \u001b[?25l\u001b[?25hdone\n",
            "  Building wheel for cysignals (setup.py) ... \u001b[?25l\u001b[?25hdone\n",
            "  Building wheel for pyfasttext (setup.py) ... \u001b[?25l\u001b[?25hdone\n",
            "Collecting snscrape\n",
            "  Downloading snscrape-0.3.4-py3-none-any.whl (35 kB)\n",
            "Requirement already satisfied: beautifulsoup4 in /usr/local/lib/python3.7/dist-packages (from snscrape) (4.6.3)\n",
            "Requirement already satisfied: requests[socks] in /usr/local/lib/python3.7/dist-packages (from snscrape) (2.23.0)\n",
            "Requirement already satisfied: lxml in /usr/local/lib/python3.7/dist-packages (from snscrape) (4.2.6)\n",
            "Requirement already satisfied: chardet<4,>=3.0.2 in /usr/local/lib/python3.7/dist-packages (from requests[socks]->snscrape) (3.0.4)\n",
            "Requirement already satisfied: certifi>=2017.4.17 in /usr/local/lib/python3.7/dist-packages (from requests[socks]->snscrape) (2021.5.30)\n",
            "Requirement already satisfied: urllib3!=1.25.0,!=1.25.1,<1.26,>=1.21.1 in /usr/local/lib/python3.7/dist-packages (from requests[socks]->snscrape) (1.24.3)\n",
            "Requirement already satisfied: idna<3,>=2.5 in /usr/local/lib/python3.7/dist-packages (from requests[socks]->snscrape) (2.10)\n",
            "Requirement already satisfied: PySocks!=1.5.7,>=1.5.6 in /usr/local/lib/python3.7/dist-packages (from requests[socks]->snscrape) (1.7.1)\n",
            "Installing collected packages: snscrape\n",
            "Successfully installed snscrape-0.3.4\n"
          ],
          "name": "stdout"
        }
      ]
    },
    {
      "cell_type": "code",
      "metadata": {
        "id": "jLtIs3Lm11Xv"
      },
      "source": [
        "import twint\n",
        "import nest_asyncio\n",
        "nest_asyncio.apply()"
      ],
      "execution_count": null,
      "outputs": []
    },
    {
      "cell_type": "markdown",
      "metadata": {
        "id": "o0ItGRiZ11Xw"
      },
      "source": [
        "## Tweet Scraping"
      ]
    },
    {
      "cell_type": "code",
      "metadata": {
        "colab": {
          "base_uri": "https://localhost:8080/",
          "height": 204
        },
        "id": "jW38cWL7xPK3",
        "outputId": "202cb390-984c-4a5c-bd9a-c207905c08ea"
      },
      "source": [
        "import snscrape.modules.twitter as sntwitter\n",
        "import pandas as pd\n",
        "# Creating list to append tweet data to\n",
        "tweets_list = []\n",
        "\n",
        "# Using TwitterSearchScraper to scrape data and append tweets to list\n",
        "for i,tweet in enumerate(sntwitter.TwitterSearchScraper('socialism since:2020-01-01 until:2021-08-03').get_items()):\n",
        "    if i>4000000:\n",
        "        break\n",
        "    tweets_list.append([tweet.date, tweet.id, tweet.content, tweet.username])\n",
        "    \n",
        "# Creating a dataframe from the tweets list above\n",
        "tweets_df = pd.DataFrame(tweets_list, columns=['Datetime', 'Tweet Id', 'Text', 'Username'])\n",
        "tweets_df.head()"
      ],
      "execution_count": null,
      "outputs": [
        {
          "output_type": "execute_result",
          "data": {
            "text/html": [
              "<div>\n",
              "<style scoped>\n",
              "    .dataframe tbody tr th:only-of-type {\n",
              "        vertical-align: middle;\n",
              "    }\n",
              "\n",
              "    .dataframe tbody tr th {\n",
              "        vertical-align: top;\n",
              "    }\n",
              "\n",
              "    .dataframe thead th {\n",
              "        text-align: right;\n",
              "    }\n",
              "</style>\n",
              "<table border=\"1\" class=\"dataframe\">\n",
              "  <thead>\n",
              "    <tr style=\"text-align: right;\">\n",
              "      <th></th>\n",
              "      <th>Datetime</th>\n",
              "      <th>Tweet Id</th>\n",
              "      <th>Text</th>\n",
              "      <th>Username</th>\n",
              "    </tr>\n",
              "  </thead>\n",
              "  <tbody>\n",
              "    <tr>\n",
              "      <th>0</th>\n",
              "      <td>2021-08-02 23:59:54+00:00</td>\n",
              "      <td>1422346450772631553</td>\n",
              "      <td>@whoistaneesh @gilb3rt101 @b3ckton ratio then</td>\n",
              "      <td>maxthesnowflak3</td>\n",
              "    </tr>\n",
              "    <tr>\n",
              "      <th>1</th>\n",
              "      <td>2021-08-02 23:59:44+00:00</td>\n",
              "      <td>1422346408934453252</td>\n",
              "      <td>@KelbPanthera @Timcast Interesting🤔 I’m having...</td>\n",
              "      <td>AliceOrtegaR</td>\n",
              "    </tr>\n",
              "    <tr>\n",
              "      <th>2</th>\n",
              "      <td>2021-08-02 23:59:39+00:00</td>\n",
              "      <td>1422346389053378567</td>\n",
              "      <td>@louie_jackjr @notcrypticno yeah and either wa...</td>\n",
              "      <td>maxthesnowflak3</td>\n",
              "    </tr>\n",
              "    <tr>\n",
              "      <th>3</th>\n",
              "      <td>2021-08-02 23:59:33+00:00</td>\n",
              "      <td>1422346361140400129</td>\n",
              "      <td>@NetBoyRick2pt0 @aaronjmate @PushbackShow Oh m...</td>\n",
              "      <td>howell_mg</td>\n",
              "    </tr>\n",
              "    <tr>\n",
              "      <th>4</th>\n",
              "      <td>2021-08-02 23:59:31+00:00</td>\n",
              "      <td>1422346353183690758</td>\n",
              "      <td>@Azure_Husky Tell them they're wonderful</td>\n",
              "      <td>ExpAllison</td>\n",
              "    </tr>\n",
              "  </tbody>\n",
              "</table>\n",
              "</div>"
            ],
            "text/plain": [
              "                   Datetime  ...         Username\n",
              "0 2021-08-02 23:59:54+00:00  ...  maxthesnowflak3\n",
              "1 2021-08-02 23:59:44+00:00  ...     AliceOrtegaR\n",
              "2 2021-08-02 23:59:39+00:00  ...  maxthesnowflak3\n",
              "3 2021-08-02 23:59:33+00:00  ...        howell_mg\n",
              "4 2021-08-02 23:59:31+00:00  ...       ExpAllison\n",
              "\n",
              "[5 rows x 4 columns]"
            ]
          },
          "metadata": {
            "tags": []
          },
          "execution_count": 4
        }
      ]
    },
    {
      "cell_type": "markdown",
      "metadata": {
        "id": "5igiftDwzmVB"
      },
      "source": [
        "## Cleanup of Duplicates and Language"
      ]
    },
    {
      "cell_type": "code",
      "metadata": {
        "id": "HCLopHqE7uWS"
      },
      "source": [
        "# Cleanup\n",
        "tweets = tweets_df.drop_duplicates(subset=['Username', 'Datetime', 'Text'])"
      ],
      "execution_count": null,
      "outputs": []
    },
    {
      "cell_type": "code",
      "metadata": {
        "id": "p0om9Kp17vE7"
      },
      "source": [
        "# Reindex\n",
        "tweets.index = range(len(tweets))"
      ],
      "execution_count": null,
      "outputs": []
    },
    {
      "cell_type": "code",
      "metadata": {
        "id": "X6YdrQrG7w_A"
      },
      "source": [
        "# Remove non-english\n",
        "from whatthelang import WhatTheLang\n",
        "wtl = WhatTheLang()"
      ],
      "execution_count": null,
      "outputs": []
    },
    {
      "cell_type": "code",
      "metadata": {
        "id": "COu7eYBY7y1O"
      },
      "source": [
        "# This function makes easy to handle exceptions (e.g. no text where text should be)\n",
        "# not really needed but can be useful \n",
        "\n",
        "def detect_lang(text):\n",
        "    try: \n",
        "        return wtl.predict_lang(text)\n",
        "    except Exception:\n",
        "        return 'exp'"
      ],
      "execution_count": null,
      "outputs": []
    },
    {
      "cell_type": "code",
      "metadata": {
        "colab": {
          "base_uri": "https://localhost:8080/"
        },
        "id": "HpSaN30s71RX",
        "outputId": "1294c675-6951-44f8-b333-8f6f78096efa"
      },
      "source": [
        "# Added performance measure here...you can leave teh %%time line out\n",
        "\n",
        "%%time\n",
        "\n",
        "tweets['lang'] = tweets['Text'].map(lambda t: detect_lang(t))"
      ],
      "execution_count": null,
      "outputs": [
        {
          "output_type": "stream",
          "text": [
            "CPU times: user 30.5 s, sys: 115 ms, total: 30.7 s\n",
            "Wall time: 30.6 s\n"
          ],
          "name": "stdout"
        },
        {
          "output_type": "stream",
          "text": [
            "/usr/local/lib/python3.7/dist-packages/ipykernel_launcher.py:2: SettingWithCopyWarning: \n",
            "A value is trying to be set on a copy of a slice from a DataFrame.\n",
            "Try using .loc[row_indexer,col_indexer] = value instead\n",
            "\n",
            "See the caveats in the documentation: https://pandas.pydata.org/pandas-docs/stable/user_guide/indexing.html#returning-a-view-versus-a-copy\n",
            "  \n"
          ],
          "name": "stderr"
        }
      ]
    },
    {
      "cell_type": "code",
      "metadata": {
        "id": "50DYz-DP73nh"
      },
      "source": [
        "# keep only english\n",
        "\n",
        "tweets = tweets[tweets.lang == 'en']"
      ],
      "execution_count": null,
      "outputs": []
    },
    {
      "cell_type": "code",
      "metadata": {
        "colab": {
          "base_uri": "https://localhost:8080/"
        },
        "id": "tyj4gt8u11X2",
        "outputId": "b3d97747-929d-46e7-f56b-79cd219df736"
      },
      "source": [
        "print(f\"all tweets: {tweets.shape}\")"
      ],
      "execution_count": null,
      "outputs": [
        {
          "output_type": "stream",
          "text": [
            "all tweets: (789497, 5)\n"
          ],
          "name": "stdout"
        }
      ]
    },
    {
      "cell_type": "markdown",
      "metadata": {
        "id": "6Cwq0ggG11X2"
      },
      "source": [
        "## Export the updated data"
      ]
    },
    {
      "cell_type": "code",
      "metadata": {
        "id": "Gi3UvDWv11X2"
      },
      "source": [
        "tweets.to_csv('socialism-tweets.csv', sep=',', index=False)"
      ],
      "execution_count": null,
      "outputs": []
    }
  ]
}